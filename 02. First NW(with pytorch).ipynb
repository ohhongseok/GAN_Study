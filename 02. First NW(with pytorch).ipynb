{
 "cells": [
  {
   "cell_type": "code",
   "execution_count": 1,
   "id": "b97bb434",
   "metadata": {},
   "outputs": [
    {
     "name": "stdout",
     "output_type": "stream",
     "text": [
      " C 드라이브의 볼륨에는 이름이 없습니다.\n",
      " 볼륨 일련 번호: 0EDB-6129\n",
      "\n",
      " C:\\Users\\IS_LAB_05\\Documents\\Gan_study 디렉터리\n",
      "\n",
      "2022-01-23  오후 09:00    <DIR>          .\n",
      "2022-01-23  오후 09:00    <DIR>          ..\n",
      "2022-01-23  오후 08:14    <DIR>          .ipynb_checkpoints\n",
      "2022-01-23  오후 05:08             8,606 01. torch_Basic .ipynb\n",
      "2022-01-23  오후 09:00           172,607 02. First NW(with pytorch).ipynb\n",
      "2022-01-23  오후 06:11    <DIR>          data\n",
      "2022-01-19  오후 05:12                16 README.md\n",
      "               3개 파일             181,229 바이트\n",
      "               4개 디렉터리  354,130,706,432 바이트 남음\n"
     ]
    }
   ],
   "source": [
    "# 데이터 구조 확인\n",
    "%ls"
   ]
  },
  {
   "cell_type": "code",
   "execution_count": 2,
   "id": "1c291915",
   "metadata": {},
   "outputs": [
    {
     "name": "stdout",
     "output_type": "stream",
     "text": [
      " C 드라이브의 볼륨에는 이름이 없습니다.\n",
      " 볼륨 일련 번호: 0EDB-6129\n",
      "\n",
      " C:\\Users\\IS_LAB_05\\Documents\\Gan_study\\data 디렉터리\n",
      "\n",
      "2022-01-23  오후 06:11    <DIR>          .\n",
      "2022-01-23  오후 06:11    <DIR>          ..\n",
      "2022-01-23  오후 06:11        18,289,443 mnist_test.csv\n",
      "2022-01-23  오후 06:10       109,575,994 mnist_train.csv\n",
      "               2개 파일         127,865,437 바이트\n",
      "\n",
      " C:\\Users\\IS_LAB_05\\Documents\\Gan_study 디렉터리\n",
      "\n"
     ]
    },
    {
     "name": "stderr",
     "output_type": "stream",
     "text": [
      "파일을 찾을 수 없습니다.\n"
     ]
    }
   ],
   "source": [
    "%ls data -al\n",
    "#mnist_test.csv\n",
    "#mnist_train.csv 받아오기"
   ]
  },
  {
   "cell_type": "code",
   "execution_count": 3,
   "id": "1645e83d",
   "metadata": {},
   "outputs": [],
   "source": [
    "import pandas as pd\n",
    "# 데이터는 상대경로로 받아오는것, 로컬 pc 프로젝트가 있는 경로에 있어야 함\n",
    "df_test = pd.read_csv('data\\mnist_test.csv',header=None)\n",
    "df_train= pd.read_csv('data\\mnist_train.csv',header=None)"
   ]
  },
  {
   "cell_type": "code",
   "execution_count": 4,
   "id": "e84d7867",
   "metadata": {},
   "outputs": [
    {
     "data": {
      "text/html": [
       "<div>\n",
       "<style scoped>\n",
       "    .dataframe tbody tr th:only-of-type {\n",
       "        vertical-align: middle;\n",
       "    }\n",
       "\n",
       "    .dataframe tbody tr th {\n",
       "        vertical-align: top;\n",
       "    }\n",
       "\n",
       "    .dataframe thead th {\n",
       "        text-align: right;\n",
       "    }\n",
       "</style>\n",
       "<table border=\"1\" class=\"dataframe\">\n",
       "  <thead>\n",
       "    <tr style=\"text-align: right;\">\n",
       "      <th></th>\n",
       "      <th>0</th>\n",
       "      <th>1</th>\n",
       "      <th>2</th>\n",
       "      <th>3</th>\n",
       "      <th>4</th>\n",
       "      <th>5</th>\n",
       "      <th>6</th>\n",
       "      <th>7</th>\n",
       "      <th>8</th>\n",
       "      <th>9</th>\n",
       "      <th>...</th>\n",
       "      <th>775</th>\n",
       "      <th>776</th>\n",
       "      <th>777</th>\n",
       "      <th>778</th>\n",
       "      <th>779</th>\n",
       "      <th>780</th>\n",
       "      <th>781</th>\n",
       "      <th>782</th>\n",
       "      <th>783</th>\n",
       "      <th>784</th>\n",
       "    </tr>\n",
       "  </thead>\n",
       "  <tbody>\n",
       "    <tr>\n",
       "      <th>0</th>\n",
       "      <td>5</td>\n",
       "      <td>0</td>\n",
       "      <td>0</td>\n",
       "      <td>0</td>\n",
       "      <td>0</td>\n",
       "      <td>0</td>\n",
       "      <td>0</td>\n",
       "      <td>0</td>\n",
       "      <td>0</td>\n",
       "      <td>0</td>\n",
       "      <td>...</td>\n",
       "      <td>0</td>\n",
       "      <td>0</td>\n",
       "      <td>0</td>\n",
       "      <td>0</td>\n",
       "      <td>0</td>\n",
       "      <td>0</td>\n",
       "      <td>0</td>\n",
       "      <td>0</td>\n",
       "      <td>0</td>\n",
       "      <td>0</td>\n",
       "    </tr>\n",
       "    <tr>\n",
       "      <th>1</th>\n",
       "      <td>0</td>\n",
       "      <td>0</td>\n",
       "      <td>0</td>\n",
       "      <td>0</td>\n",
       "      <td>0</td>\n",
       "      <td>0</td>\n",
       "      <td>0</td>\n",
       "      <td>0</td>\n",
       "      <td>0</td>\n",
       "      <td>0</td>\n",
       "      <td>...</td>\n",
       "      <td>0</td>\n",
       "      <td>0</td>\n",
       "      <td>0</td>\n",
       "      <td>0</td>\n",
       "      <td>0</td>\n",
       "      <td>0</td>\n",
       "      <td>0</td>\n",
       "      <td>0</td>\n",
       "      <td>0</td>\n",
       "      <td>0</td>\n",
       "    </tr>\n",
       "    <tr>\n",
       "      <th>2</th>\n",
       "      <td>4</td>\n",
       "      <td>0</td>\n",
       "      <td>0</td>\n",
       "      <td>0</td>\n",
       "      <td>0</td>\n",
       "      <td>0</td>\n",
       "      <td>0</td>\n",
       "      <td>0</td>\n",
       "      <td>0</td>\n",
       "      <td>0</td>\n",
       "      <td>...</td>\n",
       "      <td>0</td>\n",
       "      <td>0</td>\n",
       "      <td>0</td>\n",
       "      <td>0</td>\n",
       "      <td>0</td>\n",
       "      <td>0</td>\n",
       "      <td>0</td>\n",
       "      <td>0</td>\n",
       "      <td>0</td>\n",
       "      <td>0</td>\n",
       "    </tr>\n",
       "    <tr>\n",
       "      <th>3</th>\n",
       "      <td>1</td>\n",
       "      <td>0</td>\n",
       "      <td>0</td>\n",
       "      <td>0</td>\n",
       "      <td>0</td>\n",
       "      <td>0</td>\n",
       "      <td>0</td>\n",
       "      <td>0</td>\n",
       "      <td>0</td>\n",
       "      <td>0</td>\n",
       "      <td>...</td>\n",
       "      <td>0</td>\n",
       "      <td>0</td>\n",
       "      <td>0</td>\n",
       "      <td>0</td>\n",
       "      <td>0</td>\n",
       "      <td>0</td>\n",
       "      <td>0</td>\n",
       "      <td>0</td>\n",
       "      <td>0</td>\n",
       "      <td>0</td>\n",
       "    </tr>\n",
       "    <tr>\n",
       "      <th>4</th>\n",
       "      <td>9</td>\n",
       "      <td>0</td>\n",
       "      <td>0</td>\n",
       "      <td>0</td>\n",
       "      <td>0</td>\n",
       "      <td>0</td>\n",
       "      <td>0</td>\n",
       "      <td>0</td>\n",
       "      <td>0</td>\n",
       "      <td>0</td>\n",
       "      <td>...</td>\n",
       "      <td>0</td>\n",
       "      <td>0</td>\n",
       "      <td>0</td>\n",
       "      <td>0</td>\n",
       "      <td>0</td>\n",
       "      <td>0</td>\n",
       "      <td>0</td>\n",
       "      <td>0</td>\n",
       "      <td>0</td>\n",
       "      <td>0</td>\n",
       "    </tr>\n",
       "  </tbody>\n",
       "</table>\n",
       "<p>5 rows × 785 columns</p>\n",
       "</div>"
      ],
      "text/plain": [
       "   0    1    2    3    4    5    6    7    8    9    ...  775  776  777  778  \\\n",
       "0    5    0    0    0    0    0    0    0    0    0  ...    0    0    0    0   \n",
       "1    0    0    0    0    0    0    0    0    0    0  ...    0    0    0    0   \n",
       "2    4    0    0    0    0    0    0    0    0    0  ...    0    0    0    0   \n",
       "3    1    0    0    0    0    0    0    0    0    0  ...    0    0    0    0   \n",
       "4    9    0    0    0    0    0    0    0    0    0  ...    0    0    0    0   \n",
       "\n",
       "   779  780  781  782  783  784  \n",
       "0    0    0    0    0    0    0  \n",
       "1    0    0    0    0    0    0  \n",
       "2    0    0    0    0    0    0  \n",
       "3    0    0    0    0    0    0  \n",
       "4    0    0    0    0    0    0  \n",
       "\n",
       "[5 rows x 785 columns]"
      ]
     },
     "execution_count": 4,
     "metadata": {},
     "output_type": "execute_result"
    }
   ],
   "source": [
    "# 가져온 data 확인하기\n",
    "df_train.head() # 데이터의 각 행은 총 785개의 값으로 이루어져 있음\n",
    "\n",
    "# 맨 앞의 index[0]의 값은 각 이미지의 정답이며, 나머지 784개는 28*28의 픽셀 이미지"
   ]
  },
  {
   "cell_type": "code",
   "execution_count": 5,
   "id": "41443156",
   "metadata": {},
   "outputs": [
    {
     "name": "stdout",
     "output_type": "stream",
     "text": [
      "<class 'pandas.core.frame.DataFrame'>\n",
      "RangeIndex: 60000 entries, 0 to 59999\n",
      "Columns: 785 entries, 0 to 784\n",
      "dtypes: int64(785)\n",
      "memory usage: 359.3 MB\n"
     ]
    }
   ],
   "source": [
    "df_train.info() # 학습데이터의 총 개수는 60,000개"
   ]
  },
  {
   "cell_type": "code",
   "execution_count": 6,
   "id": "d930afbf",
   "metadata": {},
   "outputs": [
    {
     "name": "stdout",
     "output_type": "stream",
     "text": [
      "<class 'pandas.core.frame.DataFrame'>\n",
      "RangeIndex: 10000 entries, 0 to 9999\n",
      "Columns: 785 entries, 0 to 784\n",
      "dtypes: int64(785)\n",
      "memory usage: 59.9 MB\n"
     ]
    }
   ],
   "source": [
    "df_test.info()"
   ]
  },
  {
   "cell_type": "markdown",
   "id": "b831231d",
   "metadata": {},
   "source": [
    "# 이미지 시각화 해보기\n",
    " - `matplotlib.pyplot` 사용하기"
   ]
  },
  {
   "cell_type": "code",
   "execution_count": 7,
   "id": "8816f9ee",
   "metadata": {},
   "outputs": [
    {
     "data": {
      "image/png": "[encoded data removed]",
      "text/plain": [
       "<Figure size 432x288 with 1 Axes>"
      ]
     },
     "metadata": {
      "needs_background": "light"
     },
     "output_type": "display_data"
    }
   ],
   "source": [
    "import matplotlib.pyplot as plt\n",
    "# 첫번째 이미지 확인해 보기\n",
    "# 데이터프레임으로부터 데이터 할당\n",
    "row = 0\n",
    "data = df_train.iloc[row]\n",
    "\n",
    "# 첫 번째 값은 레이블, 각 이미지의 정답을 말함\n",
    "label = data[0]\n",
    "\n",
    "# 이미지 데이터는 나머지 784개의 값\n",
    "img = data[1:].values.reshape(28,28) # 1x784 를 28*28 로 reshape\n",
    "plt.title(\"label = \" + str(label))\n",
    "plt.imshow(img, interpolation='none', cmap='Blues')\n",
    "plt.show()\n",
    "\n",
    "# 결과 5 는  4번째 실행결과 output에서 첫번째 index 열을 보면 확인할 수 있다.\n",
    "# 0번째 이미지의 정답은 5"
   ]
  },
  {
   "cell_type": "markdown",
   "id": "a259937e",
   "metadata": {},
   "source": [
    "# 간단한 신경망 만들기\n",
    "<br>\n",
    "\n",
    "## 실험 이미지 구성 및 전제\n",
    "<br>\n",
    "\n",
    "### 실험 이미지\n",
    " - 이미지 df_train / df_test는 784(28*28 의 이미지를 1열로 늘여놓음)로 구성되어 있음\n",
    " - 따라서 신경망의 맨 처음 입력 레이어는 784개의 노드를 가지고 있어야함\n",
    " - 맨 마지막 레이어는 0~ 9까지의 이미지중 하나로 분류해야 하기에 총 10개의 output으로 나와야 함\n",
    "<br>\n",
    "\n",
    "### 실험 전제\n",
    " - 가운데 신경망의 크기는 대략 200으로 놓고 감\n",
    " - 한 레이어의 노드는 다음 레이어의 노드와 모두 연결되어 있음 ***왼전연결*** 되어 있음\n",
    " - 출력층과 밀집층(은닉층)에 사용될 활성함수 는 로지스틱 함수로 선정"
   ]
  },
  {
   "cell_type": "code",
   "execution_count": 8,
   "id": "20a03926",
   "metadata": {},
   "outputs": [],
   "source": [
    "import torch\n",
    "import torch.nn as nn\n",
    "\n",
    "# 분류기 만들기\n",
    "# 분류기는 nn.Module로부터 상속을 받음\n",
    "\n",
    "class Classifier(nn.Module):\n",
    "    \n",
    "    # 부모클래스 초기화\n",
    "    # 객체가 처음 만들어질때 호출되는 함수로\n",
    "    # 처음 객체를 만들 때 필요한 초기화 작업을 함\n",
    "    def __init__(self):\n",
    "        # 부모클래스의 생성자 호출\n",
    "        super().__init__()\n",
    "        \n",
    "        # 신경망 레이어 정의\n",
    "        # 리스트의 형태로 레이어 정의\n",
    "        self.model = nn.Sequential(\n",
    "            # 784개의 노드로부터 200개의 노드의\n",
    "            # 완전연결 매핑\n",
    "            nn.Linear(784,200),\n",
    "            # 200개의 노드에 활성함수 로지스틱 활성함수 선정\n",
    "            nn.Sigmoid(),\n",
    "            # 200개의 노드를 10개의 노드로 연결 \n",
    "            # 은닉층과 10개의 노드출력 게이어 간 가중치 포함됨 \n",
    "            nn.Linear(200,10),\n",
    "            # 10개의 출력에 대한 활성함수\n",
    "            nn.Sigmoid()\n",
    "        )\n",
    "        \n",
    "        ## 여기까지가 신경망의 정보들이 어떻게 정방향으로 흐르는지 정의함\n",
    "        ## bt 오차를 어떻게 처리하여 학습파라미터를 업데이트 할 건지는 정의하지 않음\n",
    "        \n",
    "        # 평균제곱 오차 사용하기 ( 실제와 예측값의 차이를 계싼하여 제곱 후 평균을 계산한 것)\n",
    "        # torch.nnMESLoss() 로 제공함\n",
    "        self.loss_function = nn.MSELoss()\n",
    "\n",
    "        \n",
    "        # 손실을 이용해 네트워크의 가중치 수정하기,\n",
    "        # 확률적 경사하강법 (SGD) 사용, 학습률 = 0.01\n",
    "        # SGD 옵티마이저에 모든 학습 파라미터를 self.parameters()를 통해 넘길 수 있음\n",
    "        self.optimiser = torch.optim.SGD(self.parameters(),lr=0.01)\n",
    "        \n",
    "        # train에서 사용될 counter, progress 초기화\n",
    "        self.counter = 0\n",
    "        self.progress = []\n",
    "\n",
    "        pass\n",
    "        \n",
    "    # 파이토치에서 네트워크에서 정보를 전달하는데에 forward() 함수를 사용해야 함 \n",
    "    def forward(self,inputs):\n",
    "        # 모델 실행\n",
    "        return self.model(inputs)\n",
    "        # 흐름 : 입력값을 받아 nn.Sequential() 에서 정의한\n",
    "        # self.model() 로 전달함. 모델의 결과는 forward()를 호출한 곳으로 전달됨\n",
    "    \n",
    "    \n",
    "    # 네트워크 훈련하기 \n",
    "    # train 함수는 신경망에 전달할 입력이 필요하며\n",
    "    # 출력값이 필요하다. 이를통해 손실 계산\n",
    "    def train(self, inputs, targets):\n",
    "        # 신경망의 결과 계산\n",
    "        outputs = self.forward(inputs)\n",
    "        \n",
    "        # 손실 계산\n",
    "        loss = self.loss_function(outputs, targets)\n",
    "\n",
    "        # 카운터를 증가시키고 10회마다 오차 저장\n",
    "        # 모니터링 편하게 10개 훈련 샘플마다 손실값 저ㅏㅇ\n",
    "        self.counter += 1\n",
    "        if (self.counter % 10 == 0):\n",
    "            self.progress.append(loss.item())\n",
    "            pass\n",
    "        if (self.counter % 10000 == 0):\n",
    "            print(\"counter = \", self.counter)\n",
    "            pass\n",
    "\n",
    "        # 기울기 초기화, 역전파 실행, 가중치 갱신\n",
    "        # 각 노드마다 오차 기울기를 계싼, 그 노드에 연결된\n",
    "        # 가중치들을 수정하는 과정\n",
    "        \n",
    "        # 계산그래프의 기울기는 모두 0으로 초기화 됨\n",
    "        # 이렇게하지 않으면 loss.backward()를 따라 계산시\n",
    "        # 값이 쌓이게 됨\n",
    "        self.optimiser.zero_grad()\n",
    "        # 신경망의 기울기 계산\n",
    "        loss.backward()\n",
    "        # 신경망의 학습 파라미터 갱신\n",
    "        self.optimiser.step()\n",
    "\n",
    "        pass\n",
    "    \n",
    "    # 그림으로 표현하기 위함 \n",
    "    def plot_progress(self):\n",
    "        df = pandas.DataFrame(self.progress, columns=['loss'])\n",
    "        df.plot(ylim=(0, 1.0), figsize=(16,8), alpha=0.1, marker='.', grid=True, yticks=(0, 0.25, 0.5))\n",
    "        pass\n",
    "    \n",
    "    pass"
   ]
  },
  {
   "cell_type": "markdown",
   "id": "04e091cc",
   "metadata": {},
   "source": [
    "# Dataset 클래스"
   ]
  },
  {
   "cell_type": "code",
   "execution_count": 9,
   "id": "dde54d07",
   "metadata": {},
   "outputs": [],
   "source": [
    "# 데이터셋 클래스\n",
    "from torch.utils.data import Dataset\n",
    "\n",
    "import pandas\n",
    "import matplotlib.pyplot as plt\n",
    "\n",
    "class MnistDataset(Dataset):\n",
    "    \n",
    "    def __init__(self, csv_file):\n",
    "        self.data_df = pandas.read_csv(csv_file, header=None)\n",
    "        pass\n",
    "    \n",
    "    def __len__(self):\n",
    "        return len(self.data_df)\n",
    "    \n",
    "    def __getitem__(self, index):\n",
    "        # 이미지 목표(레이블)\n",
    "        label = self.data_df.iloc[index,0]\n",
    "        target = torch.zeros((10))\n",
    "        target[label] = 1.0\n",
    "        \n",
    "        # 0-255의 이미지를 0-1로 정규화\n",
    "        image_values = torch.FloatTensor(self.data_df.iloc[index,1:].values) / 255.0\n",
    "        \n",
    "        # 레이블, 이미지 데이터 텐서, 목표 텐서 반환\n",
    "        return label, image_values, target\n",
    "    \n",
    "    def plot_image(self, index):\n",
    "        img = self.data_df.iloc[index,1:].values.reshape(28,28)\n",
    "        plt.title(\"label = \" + str(self.data_df.iloc[index,0]))\n",
    "        plt.imshow(img, interpolation='none', cmap='Blues')\n",
    "        pass\n",
    "    \n",
    "    pass"
   ]
  },
  {
   "cell_type": "code",
   "execution_count": 10,
   "id": "d4db32a9",
   "metadata": {},
   "outputs": [],
   "source": [
    "mnist_dataset =MnistDataset('data\\mnist_train.csv')"
   ]
  },
  {
   "cell_type": "code",
   "execution_count": 11,
   "id": "d7a946af",
   "metadata": {},
   "outputs": [
    {
     "data": {
      "image/png": "[encoded data removed]",
      "text/plain": [
       "<Figure size 432x288 with 1 Axes>"
      ]
     },
     "metadata": {
      "needs_background": "light"
     },
     "output_type": "display_data"
    }
   ],
   "source": [
    "mnist_dataset.plot_image(9)"
   ]
  },
  {
   "cell_type": "code",
   "execution_count": 12,
   "id": "33988870",
   "metadata": {},
   "outputs": [
    {
     "data": {
      "text/plain": [
       "(5,\n",
       " tensor([0.0000, 0.0000, 0.0000, 0.0000, 0.0000, 0.0000, 0.0000, 0.0000, 0.0000,\n",
       "         0.0000, 0.0000, 0.0000, 0.0000, 0.0000, 0.0000, 0.0000, 0.0000, 0.0000,\n",
       "         0.0000, 0.0000, 0.0000, 0.0000, 0.0000, 0.0000, 0.0000, 0.0000, 0.0000,\n",
       "         0.0000, 0.0000, 0.0000, 0.0000, 0.0000, 0.0000, 0.0000, 0.0000, 0.0000,\n",
       "         0.0000, 0.0000, 0.0000, 0.0000, 0.0000, 0.0000, 0.0000, 0.0000, 0.0000,\n",
       "         0.0000, 0.0000, 0.0000, 0.0000, 0.0000, 0.0000, 0.0000, 0.0000, 0.0000,\n",
       "         0.0000, 0.0000, 0.0000, 0.0000, 0.0000, 0.0000, 0.0000, 0.0000, 0.0000,\n",
       "         0.0000, 0.0000, 0.0000, 0.0000, 0.0000, 0.0000, 0.0000, 0.0000, 0.0000,\n",
       "         0.0000, 0.0000, 0.0000, 0.0000, 0.0000, 0.0000, 0.0000, 0.0000, 0.0000,\n",
       "         0.0000, 0.0000, 0.0000, 0.0000, 0.0000, 0.0000, 0.0000, 0.0000, 0.0000,\n",
       "         0.0000, 0.0000, 0.0000, 0.0000, 0.0000, 0.0000, 0.0000, 0.0000, 0.0000,\n",
       "         0.0000, 0.0000, 0.0000, 0.0000, 0.0000, 0.0000, 0.0000, 0.0000, 0.0000,\n",
       "         0.0000, 0.0000, 0.0000, 0.0000, 0.0000, 0.0000, 0.0000, 0.0000, 0.0000,\n",
       "         0.0000, 0.0000, 0.0000, 0.0000, 0.0000, 0.0000, 0.0000, 0.0000, 0.0000,\n",
       "         0.0000, 0.0000, 0.0000, 0.0000, 0.0000, 0.0000, 0.0000, 0.0000, 0.0000,\n",
       "         0.0000, 0.0000, 0.0000, 0.0000, 0.0000, 0.0000, 0.0000, 0.0000, 0.0000,\n",
       "         0.0000, 0.0000, 0.0000, 0.0000, 0.0000, 0.0000, 0.0000, 0.0000, 0.0000,\n",
       "         0.0000, 0.0000, 0.0000, 0.0000, 0.0000, 0.0000, 0.0000, 0.0000, 0.0000,\n",
       "         0.0000, 0.0000, 0.0000, 0.0000, 0.0000, 0.0000, 0.0000, 0.0000, 0.0000,\n",
       "         0.0000, 0.0000, 0.0000, 0.0000, 0.0000, 0.0000, 0.0000, 0.0000, 0.0000,\n",
       "         0.0000, 0.0078, 0.0706, 0.1804, 0.5333, 0.5333, 0.9569, 1.0000, 0.9451,\n",
       "         0.4039, 0.0000, 0.0000, 0.0000, 0.0000, 0.0000, 0.0000, 0.0000, 0.0000,\n",
       "         0.0000, 0.0000, 0.0000, 0.0000, 0.0000, 0.0000, 0.0000, 0.0000, 0.0000,\n",
       "         0.0588, 0.3686, 0.6392, 0.9922, 0.9922, 0.9922, 0.9922, 0.9333, 0.8549,\n",
       "         0.8000, 0.1373, 0.0000, 0.0000, 0.0000, 0.0000, 0.0000, 0.0000, 0.0000,\n",
       "         0.0000, 0.0000, 0.0000, 0.0000, 0.0000, 0.0000, 0.0000, 0.0000, 0.0000,\n",
       "         0.0000, 0.5137, 0.9922, 0.9922, 0.9922, 0.9922, 0.9294, 0.7843, 0.2235,\n",
       "         0.0000, 0.0000, 0.0000, 0.0000, 0.0000, 0.0000, 0.0000, 0.0000, 0.0000,\n",
       "         0.0000, 0.0000, 0.0000, 0.0000, 0.0000, 0.0000, 0.0000, 0.0000, 0.0000,\n",
       "         0.0000, 0.6078, 0.9647, 0.9922, 0.9686, 0.4235, 0.2549, 0.1765, 0.0000,\n",
       "         0.0000, 0.0000, 0.0000, 0.0000, 0.0000, 0.0000, 0.0000, 0.0000, 0.0000,\n",
       "         0.0000, 0.0000, 0.0000, 0.0000, 0.0000, 0.0000, 0.0000, 0.0000, 0.0000,\n",
       "         0.0000, 0.0000, 0.8118, 0.9922, 0.9922, 0.9020, 0.0000, 0.0000, 0.0000,\n",
       "         0.0000, 0.0000, 0.0000, 0.0000, 0.0000, 0.0000, 0.0000, 0.0000, 0.0000,\n",
       "         0.0000, 0.0000, 0.0000, 0.0000, 0.0000, 0.0000, 0.0000, 0.0000, 0.0000,\n",
       "         0.0000, 0.0000, 0.0000, 0.6157, 0.9922, 0.9922, 0.4902, 0.0000, 0.0000,\n",
       "         0.0000, 0.0000, 0.0000, 0.0000, 0.0000, 0.0000, 0.0000, 0.0000, 0.0000,\n",
       "         0.0000, 0.0000, 0.0000, 0.0000, 0.0000, 0.0000, 0.0000, 0.0000, 0.0000,\n",
       "         0.0000, 0.0000, 0.0000, 0.0000, 0.3490, 0.9922, 0.9804, 0.2235, 0.0000,\n",
       "         0.0000, 0.0000, 0.0000, 0.0000, 0.0000, 0.0000, 0.0000, 0.0000, 0.0000,\n",
       "         0.0000, 0.0000, 0.0000, 0.0000, 0.0000, 0.0000, 0.0000, 0.0000, 0.0000,\n",
       "         0.0000, 0.0000, 0.0000, 0.0000, 0.0000, 0.3490, 0.9922, 0.9686, 0.0000,\n",
       "         0.0000, 0.0000, 0.0000, 0.0000, 0.0000, 0.0000, 0.0000, 0.0000, 0.0000,\n",
       "         0.0000, 0.0000, 0.0000, 0.0000, 0.0000, 0.0000, 0.0000, 0.0000, 0.0000,\n",
       "         0.0000, 0.0000, 0.0000, 0.0000, 0.0000, 0.0000, 0.3490, 0.9922, 0.9686,\n",
       "         0.0000, 0.0000, 0.0000, 0.0000, 0.0000, 0.0000, 0.0000, 0.0000, 0.0000,\n",
       "         0.0000, 0.0000, 0.0000, 0.0000, 0.0000, 0.0000, 0.0000, 0.0000, 0.0000,\n",
       "         0.0000, 0.0000, 0.0000, 0.0000, 0.0000, 0.0000, 0.0000, 0.3490, 0.9922,\n",
       "         0.9686, 0.0000, 0.0000, 0.0000, 0.0000, 0.0000, 0.0000, 0.0000, 0.0000,\n",
       "         0.0000, 0.0000, 0.0000, 0.0000, 0.0000, 0.0000, 0.0000, 0.0000, 0.0000,\n",
       "         0.0000, 0.0000, 0.0000, 0.0000, 0.0000, 0.0000, 0.0000, 0.0000, 0.0824,\n",
       "         0.9059, 0.9765, 0.1333, 0.0000, 0.0000, 0.0000, 0.0000, 0.0000, 0.0000,\n",
       "         0.0000, 0.0000, 0.0000, 0.0000, 0.0000, 0.0000, 0.0000, 0.0000, 0.0000,\n",
       "         0.0000, 0.0000, 0.0000, 0.0000, 0.0000, 0.0000, 0.0000, 0.0000, 0.0000,\n",
       "         0.0000, 0.8824, 0.9922, 0.9059, 0.8353, 0.8353, 0.4824, 0.0627, 0.0000,\n",
       "         0.0000, 0.0000, 0.0000, 0.0000, 0.0000, 0.0000, 0.0000, 0.0000, 0.0000,\n",
       "         0.0000, 0.0000, 0.0000, 0.0000, 0.0000, 0.0000, 0.0000, 0.0000, 0.0000,\n",
       "         0.0000, 0.0000, 0.6745, 0.9922, 0.9922, 0.9922, 0.9922, 0.9922, 0.7451,\n",
       "         0.2471, 0.0000, 0.0000, 0.0000, 0.0000, 0.0000, 0.0000, 0.0000, 0.0000,\n",
       "         0.0000, 0.0000, 0.0000, 0.0000, 0.0000, 0.0000, 0.0000, 0.0000, 0.0000,\n",
       "         0.0000, 0.0000, 0.0000, 0.0078, 0.4549, 0.2824, 0.4863, 0.8196, 0.9922,\n",
       "         0.9922, 0.5529, 0.0000, 0.0000, 0.0000, 0.0000, 0.0000, 0.0000, 0.0000,\n",
       "         0.0000, 0.0000, 0.0000, 0.0000, 0.0000, 0.0000, 0.0000, 0.0000, 0.0000,\n",
       "         0.0000, 0.0000, 0.0000, 0.0000, 0.0000, 0.0000, 0.0000, 0.0000, 0.0980,\n",
       "         0.8588, 0.9922, 0.8078, 0.0118, 0.0000, 0.0000, 0.0000, 0.0000, 0.0000,\n",
       "         0.0000, 0.0000, 0.0000, 0.0000, 0.0000, 0.0000, 0.0000, 0.0000, 0.0000,\n",
       "         0.0000, 0.0000, 0.0000, 0.0000, 0.0000, 0.0000, 0.0000, 0.0000, 0.0000,\n",
       "         0.0000, 0.4078, 0.9647, 0.9922, 0.0196, 0.0000, 0.0000, 0.0000, 0.0000,\n",
       "         0.0000, 0.0000, 0.0000, 0.0000, 0.0000, 0.0000, 0.0000, 0.0000, 0.0000,\n",
       "         0.0000, 0.0000, 0.0000, 0.0000, 0.0000, 0.0000, 0.0000, 0.0000, 0.0000,\n",
       "         0.0000, 0.0000, 0.0000, 0.8353, 0.9922, 0.0196, 0.0000, 0.0000, 0.0000,\n",
       "         0.0000, 0.0000, 0.0000, 0.0000, 0.0000, 0.0000, 0.0000, 0.0000, 0.0000,\n",
       "         0.0000, 0.0000, 0.0000, 0.0000, 0.0000, 0.0000, 0.0000, 0.0000, 0.0000,\n",
       "         0.0000, 0.0000, 0.0000, 0.1020, 0.8863, 0.9922, 0.0196, 0.0000, 0.0000,\n",
       "         0.0000, 0.0000, 0.0000, 0.0000, 0.0000, 0.0000, 0.0000, 0.0000, 0.0000,\n",
       "         0.0000, 0.0000, 0.0000, 0.0000, 0.0000, 0.0000, 0.0000, 0.0000, 0.0000,\n",
       "         0.0000, 0.0000, 0.0000, 0.0000, 0.5176, 0.9922, 0.8196, 0.0118, 0.0000,\n",
       "         0.0000, 0.0000, 0.0000, 0.0000, 0.0000, 0.0000, 0.0000, 0.0000, 0.0000,\n",
       "         0.0000, 0.0000, 0.0000, 0.0000, 0.0000, 0.0000, 0.0000, 0.0000, 0.0000,\n",
       "         0.0000, 0.0000, 0.0000, 0.0000, 0.0000, 0.3059, 0.9922, 0.3373, 0.0000,\n",
       "         0.0000, 0.0000, 0.0000, 0.0000, 0.0000, 0.0000, 0.0000, 0.0000, 0.0000,\n",
       "         0.0000, 0.0000, 0.0000, 0.0000, 0.0000, 0.0000, 0.0000, 0.0000, 0.0000,\n",
       "         0.0000, 0.0000, 0.0000, 0.0000, 0.0000, 0.0000, 0.0000, 0.0000, 0.0000,\n",
       "         0.0000, 0.0000, 0.0000, 0.0000, 0.0000, 0.0000, 0.0000, 0.0000, 0.0000,\n",
       "         0.0000, 0.0000, 0.0000, 0.0000, 0.0000, 0.0000, 0.0000, 0.0000, 0.0000,\n",
       "         0.0000, 0.0000, 0.0000, 0.0000, 0.0000, 0.0000, 0.0000, 0.0000, 0.0000,\n",
       "         0.0000, 0.0000, 0.0000, 0.0000, 0.0000, 0.0000, 0.0000, 0.0000, 0.0000,\n",
       "         0.0000]),\n",
       " tensor([0., 0., 0., 0., 0., 1., 0., 0., 0., 0.]))"
      ]
     },
     "execution_count": 12,
     "metadata": {},
     "output_type": "execute_result"
    }
   ],
   "source": [
    "# 데이터셋 클래스가 인덱스로 접근할수 있고, 레이블과 이미지 및 목표 텐서를 반환하는지 확인\n",
    "\n",
    "mnist_dataset[100]"
   ]
  },
  {
   "cell_type": "markdown",
   "id": "a9491b9e",
   "metadata": {},
   "source": [
    "# 분류기 학습시키기\n"
   ]
  },
  {
   "cell_type": "code",
   "execution_count": 13,
   "id": "4d0cf89e",
   "metadata": {},
   "outputs": [
    {
     "name": "stdout",
     "output_type": "stream",
     "text": [
      "training epoch 1 of 4\n",
      "counter =  10000\n",
      "counter =  20000\n",
      "counter =  30000\n",
      "counter =  40000\n",
      "counter =  50000\n",
      "counter =  60000\n",
      "training epoch 2 of 4\n",
      "counter =  70000\n",
      "counter =  80000\n",
      "counter =  90000\n",
      "counter =  100000\n",
      "counter =  110000\n",
      "counter =  120000\n",
      "training epoch 3 of 4\n",
      "counter =  130000\n",
      "counter =  140000\n",
      "counter =  150000\n",
      "counter =  160000\n",
      "counter =  170000\n",
      "counter =  180000\n",
      "training epoch 4 of 4\n",
      "counter =  190000\n",
      "counter =  200000\n",
      "counter =  210000\n",
      "counter =  220000\n",
      "counter =  230000\n",
      "counter =  240000\n",
      "Wall time: 2min 35s\n"
     ]
    }
   ],
   "source": [
    "%%time \n",
    "# 신경망 생성\n",
    "\n",
    "C = Classifier()\n",
    "\n",
    "# MNIST 데이터에 대해 훈련 진행 \n",
    "\n",
    "epochs = 4\n",
    "\n",
    "for i in range(epochs):\n",
    "    print('training epoch', i+1, \"of\", epochs)\n",
    "    # 네트워크 훈련 진행\n",
    "    for label, image_data_tensor, target_tensor in mnist_dataset:\n",
    "        C.train(image_data_tensor, target_tensor)\n",
    "        pass\n",
    "    pass"
   ]
  },
  {
   "cell_type": "code",
   "execution_count": 14,
   "id": "4455758a",
   "metadata": {},
   "outputs": [
    {
     "data": {
      "image/png": "[encoded data removed]",
      "text/plain": [
       "<Figure size 1152x576 with 1 Axes>"
      ]
     },
     "metadata": {
      "needs_background": "light"
     },
     "output_type": "display_data"
    }
   ],
   "source": [
    "# 분류기 오차 출력\n",
    "\n",
    "C.plot_progress()\n",
    "# 결과를 통해 손실값이 빠르게 떨어지며, 0을 향해 노이즈가 있는 상태로 느리게 훈련이 되는것을 알 수 있음 -> 0을 향해 가니 \n",
    "# 학습이 매우 좋다 라는것을 알 수 있음"
   ]
  },
  {
   "cell_type": "markdown",
   "id": "fbf19e14",
   "metadata": {},
   "source": [
    "# 신경망에 쿼리 하기\n",
    " - 앞서서는 모델을 훈련시키는 용도로 사용\n",
    " - 이번부터는 이미지를 실제로 분류할 수 있는지 테스트\n",
    " - 데이터의 경우 앞에서 정의한 df_test 를 사용"
   ]
  },
  {
   "cell_type": "code",
   "execution_count": 15,
   "id": "a1719c5c",
   "metadata": {},
   "outputs": [],
   "source": [
    "df_test = MnistDataset('data\\mnist_test.csv') # 테스트 데이터 셋"
   ]
  },
  {
   "cell_type": "code",
   "execution_count": 16,
   "id": "5c1267a0",
   "metadata": {},
   "outputs": [
    {
     "data": {
      "image/png": "[encoded data removed]",
      "text/plain": [
       "<Figure size 432x288 with 1 Axes>"
      ]
     },
     "metadata": {
      "needs_background": "light"
     },
     "output_type": "display_data"
    }
   ],
   "source": [
    "# 이미지 확인해 보기\n",
    "df_test.plot_image(19)"
   ]
  },
  {
   "cell_type": "code",
   "execution_count": 17,
   "id": "12d8df06",
   "metadata": {},
   "outputs": [
    {
     "data": {
      "text/plain": [
       "<AxesSubplot:>"
      ]
     },
     "execution_count": 17,
     "metadata": {},
     "output_type": "execute_result"
    },
    {
     "data": {
      "image/png": "[encoded data removed]",
      "text/plain": [
       "<Figure size 432x288 with 1 Axes>"
      ]
     },
     "metadata": {
      "needs_background": "light"
     },
     "output_type": "display_data"
    }
   ],
   "source": [
    "# 훈련한 신경망에 이 이미지에 대해 어떻게 인식하는지 확인해보기\n",
    "\n",
    "# 인덱스 19의 레코드에서 이미지 픽셀값들을 추출,\n",
    "# image_data에 값 저장하기\n",
    "# 19번째 이미지에 대한 값\n",
    "image_data = df_test[19][1]\n",
    "\n",
    "# 훈련된 신경망으로부터 쿼리\n",
    "# forward() 함수를 이용해 전달됨\n",
    "output = C.forward(image_data)\n",
    "\n",
    "# 출력 텐서 플롯 \n",
    "# 전체의 숫자데이터에대해 plot으로 확률에 대한 퍼센트를 반환한다.\n",
    "pandas.DataFrame(output.detach().numpy()).plot(kind='bar', legend=False, ylim=(0,1))"
   ]
  },
  {
   "cell_type": "markdown",
   "id": "3e7d60a6",
   "metadata": {},
   "source": [
    "# 분류기의 성능"
   ]
  },
  {
   "cell_type": "code",
   "execution_count": 18,
   "id": "5f539cfd",
   "metadata": {},
   "outputs": [
    {
     "name": "stdout",
     "output_type": "stream",
     "text": [
      "정확도: 8812 테스트데이터 개수:  10000 아이템 대비 정확도:  0.8812\n"
     ]
    }
   ],
   "source": [
    "# 훈련된 신경망을 테스트 데이터셋에 대해 테스트\n",
    "\n",
    "score = 0\n",
    "items = 0\n",
    "\n",
    "for label, image_data_tensor, target_tensor in df_test:\n",
    "    answer = C.forward(image_data_tensor).detach().numpy()\n",
    "    if (answer.argmax() == label):\n",
    "        score += 1\n",
    "        pass\n",
    "    items += 1\n",
    "    \n",
    "    pass\n",
    "\n",
    "print(\"정확도:\", score, \"테스트데이터 개수: \", items, \"아이템 대비 정확도: \", score/items)"
   ]
  },
  {
   "cell_type": "code",
   "execution_count": null,
   "id": "d545ba91",
   "metadata": {},
   "outputs": [],
   "source": []
  }
 ],
 "metadata": {
  "kernelspec": {
   "display_name": "Python 3 (ipykernel)",
   "language": "python",
   "name": "python3"
  },
  "language_info": {
   "codemirror_mode": {
    "name": "ipython",
    "version": 3
   },
   "file_extension": ".py",
   "mimetype": "text/x-python",
   "name": "python",
   "nbconvert_exporter": "python",
   "pygments_lexer": "ipython3",
   "version": "3.9.7"
  }
 },
 "nbformat": 4,
 "nbformat_minor": 5
}
