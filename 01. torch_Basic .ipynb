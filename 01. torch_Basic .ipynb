{
 "cells": [
  {
   "cell_type": "code",
   "execution_count": 1,
   "id": "6e4715dc",
   "metadata": {},
   "outputs": [],
   "source": [
    "import torch"
   ]
  },
  {
   "cell_type": "markdown",
   "id": "97a68305",
   "metadata": {},
   "source": [
    "# 일반적인 파이썬 변수 사용법"
   ]
  },
  {
   "cell_type": "code",
   "execution_count": 2,
   "id": "43aeb47f",
   "metadata": {},
   "outputs": [
    {
     "name": "stdout",
     "output_type": "stream",
     "text": [
      "3.5 14.25\n"
     ]
    }
   ],
   "source": [
    "x = 3.5\n",
    "\n",
    "y = x*x + 2\n",
    "\n",
    "print(x, y)"
   ]
  },
  {
   "cell_type": "markdown",
   "id": "0d2c957e",
   "metadata": {},
   "source": [
    "# 간단한 파이토치 텐서"
   ]
  },
  {
   "cell_type": "code",
   "execution_count": 3,
   "id": "3ebdc302",
   "metadata": {},
   "outputs": [
    {
     "name": "stdout",
     "output_type": "stream",
     "text": [
      "tensor(3.5000)\n"
     ]
    }
   ],
   "source": [
    "# 간단한 파이토치 텐서\n",
    "# 파이토치는 값을 저장하는 방법을 텐서 라고 부른다.\n",
    "x = torch.tensor(3.5)\n",
    "\n",
    "# x의 값이 텐서로 저장되어 있음\n",
    "print(x) "
   ]
  },
  {
   "cell_type": "markdown",
   "id": "cf6c7ab0",
   "metadata": {},
   "source": [
    "# 파이토치 값 연산하기"
   ]
  },
  {
   "cell_type": "code",
   "execution_count": 4,
   "id": "3991ef44",
   "metadata": {},
   "outputs": [
    {
     "name": "stdout",
     "output_type": "stream",
     "text": [
      "tensor(6.5000)\n"
     ]
    }
   ],
   "source": [
    "# 텐서를 이용한 간단한 연산\n",
    "\n",
    "y = x + 3\n",
    "\n",
    "# y 또한 텐서의 값으로 저장되어 있음을 알 수 있다.\n",
    "print(y) "
   ]
  },
  {
   "cell_type": "markdown",
   "id": "aa350e22",
   "metadata": {},
   "source": [
    "# 파이토치 텐서로 자동 기울기 계산"
   ]
  },
  {
   "cell_type": "code",
   "execution_count": 5,
   "id": "c34a9647",
   "metadata": {},
   "outputs": [
    {
     "name": "stdout",
     "output_type": "stream",
     "text": [
      "tensor(3.5000, requires_grad=True)\n"
     ]
    }
   ],
   "source": [
    "# 파이토치 텐서\n",
    "\n",
    "x = torch.tensor(3.5, requires_grad=True)\n",
    "# requires_grad=True 옵션을 활용하여\n",
    "# 파이토치에게 x에 대해 기울기를 계산하도록 함\n",
    "\n",
    "print(x)"
   ]
  },
  {
   "cell_type": "code",
   "execution_count": 6,
   "id": "027d9a31",
   "metadata": {},
   "outputs": [
    {
     "name": "stdout",
     "output_type": "stream",
     "text": [
      "tensor(1.8750, grad_fn=<MulBackward0>)\n"
     ]
    }
   ],
   "source": [
    "# x로부터 정의된 y\n",
    "\n",
    "y = (x-1) * (x-2) * (x-3)\n",
    "# y = (3.5-1)*(3.5-2)*(3.5-3)\n",
    "# 의 결과가 1.8750 에 들어가 있음\n",
    "print(y)"
   ]
  },
  {
   "cell_type": "code",
   "execution_count": 7,
   "id": "05b6c392",
   "metadata": {},
   "outputs": [],
   "source": [
    "# 위에서 정의된 x의 값은 3.5\n",
    "\n",
    "# x로부터 정의된 y\n",
    "\n",
    "# 기울기 계산\n",
    "\n",
    "y.backward()"
   ]
  },
  {
   "cell_type": "markdown",
   "id": "804a54d0",
   "metadata": {},
   "source": [
    "# 파이토치의 값\n",
    "\n",
    " - 파이토치는 텐서가 어디에서 왔고 어떻게 계산되는지를 기억한다.\n",
    " - x, y 모두 텐서이다.\n",
    " - 위의 개념이 중요한 이유는, 신경망 춘현을 위해서는 미분을 위해 기울기 오차가 필요하다.\n",
    " - 왜냐하면 가중치가 얼마나 변하냐에 따라 결과와의 오차가 어떻게 변하는지를 알아야 하기 때문이다.\n",
    " - 신경망의 결과는 가중치의 영향을 받으며, x의 변화량에 따라 y의 변화량이 어떻게 바뀌는지 아는것이 중요함"
   ]
  },
  {
   "cell_type": "code",
   "execution_count": 8,
   "id": "429ba508",
   "metadata": {},
   "outputs": [
    {
     "data": {
      "text/plain": [
       "tensor(5.7500)"
      ]
     },
     "execution_count": 8,
     "metadata": {},
     "output_type": "execute_result"
    }
   ],
   "source": [
    "# x의 값이 3.5 일때의 기울기 \n",
    "x.grad"
   ]
  },
  {
   "cell_type": "markdown",
   "id": "1959cd89",
   "metadata": {},
   "source": [
    "# 파이토치 텐서의 역할\n",
    " - 기본적인 숫자 이상의 정보를 저장한다.(기울기 등)\n",
    " - 이 변수에 영향을 주고받는 텐서에 대해 수식 등(사칙연산 등) 추가적인 정보를 저장한다."
   ]
  },
  {
   "cell_type": "markdown",
   "id": "48ac59d7",
   "metadata": {},
   "source": [
    "# 파이토치 계산그래프 (Computation Graph)\n",
    "\n",
    " - 간단한 계산 그래프\n",
    "  > simple network : (x)--> (y) --> (z) <br>\n",
    "  y = x^2<br>\n",
    "  z = 2y + 3<br>\n",
    " - 결과 z가 x 에 따라 바뀌는지 알고싶으면 dy/dx 를 구해야함 (연쇄법칙을 적용)\n",
    "  > dy/dx 를 구해야 dz/dy를 구할 수 있음\n",
    " - 미분의 결과 z는 4x 만큼의 영향을 받는것을 알 수 있음"
   ]
  },
  {
   "cell_type": "code",
   "execution_count": 9,
   "id": "39041e77",
   "metadata": {},
   "outputs": [],
   "source": [
    "# x,y,z에 관련된 간단한 그래프 설정\n",
    "# 위에서 정의한 x / y / z 의 정의\n",
    "x = torch.tensor(3.5, requires_grad=True)\n",
    "\n",
    "y = x*x\n",
    "\n",
    "z = 2*y + 3"
   ]
  },
  {
   "cell_type": "code",
   "execution_count": 10,
   "id": "b4e0d601",
   "metadata": {},
   "outputs": [],
   "source": [
    "# 기울기 계산\n",
    "z.backward()"
   ]
  },
  {
   "cell_type": "code",
   "execution_count": 11,
   "id": "5614993f",
   "metadata": {},
   "outputs": [
    {
     "name": "stdout",
     "output_type": "stream",
     "text": [
      "tensor(14.)\n"
     ]
    }
   ],
   "source": [
    "# 위에서 연쇄법칙을 설명한것 처럼\n",
    "# z에 대해 backward() 계산을 통해\n",
    "# 3.5 일때의 기울기값을 받아옴\n",
    "print(x.grad)"
   ]
  },
  {
   "cell_type": "markdown",
   "id": "1d88d1b2",
   "metadata": {},
   "source": [
    "# 여러노드와 연결된 계산 그래프\n",
    "<br>\n",
    "x = 2a + 3b\n",
    "<br>\n",
    "y = 5a^2 + 3b^3\n",
    "<br>\n",
    "z = 2x + 3y"
   ]
  },
  {
   "cell_type": "code",
   "execution_count": 12,
   "id": "9eca42ef",
   "metadata": {},
   "outputs": [],
   "source": [
    "# x,y,z에 관련된 간단한 그래프 설정\n",
    "\n",
    "a = torch.tensor(2.0, requires_grad=True)\n",
    "b = torch.tensor(1.0, requires_grad=True)\n",
    "\n",
    "x = 2*a + 3*b\n",
    "\n",
    "y = 5*a*a + 3*b*b*b\n",
    "\n",
    "z = 2*x + 3*y"
   ]
  },
  {
   "cell_type": "code",
   "execution_count": 13,
   "id": "66991eee",
   "metadata": {},
   "outputs": [],
   "source": [
    "# 항상 마지막의 결과에 대해 .backward() 연산을 수행해야 함\n",
    "z.backward()"
   ]
  },
  {
   "cell_type": "code",
   "execution_count": 14,
   "id": "bd13fa22",
   "metadata": {},
   "outputs": [
    {
     "data": {
      "text/plain": [
       "tensor(64.)"
      ]
     },
     "execution_count": 14,
     "metadata": {},
     "output_type": "execute_result"
    }
   ],
   "source": [
    "# a = 2.0일 때의 계산\n",
    "\n",
    "a.grad"
   ]
  },
  {
   "cell_type": "code",
   "execution_count": 15,
   "id": "2926883e",
   "metadata": {},
   "outputs": [
    {
     "data": {
      "text/plain": [
       "tensor(33.)"
      ]
     },
     "execution_count": 15,
     "metadata": {},
     "output_type": "execute_result"
    }
   ],
   "source": [
    "b.grad"
   ]
  },
  {
   "cell_type": "markdown",
   "id": "22ff8465",
   "metadata": {},
   "source": [
    "# 결과\n",
    " - 파이토치는경로를 거슬러 올라가 역전파를 통해 경사를 계산함"
   ]
  },
  {
   "cell_type": "code",
   "execution_count": null,
   "id": "404e2518",
   "metadata": {},
   "outputs": [],
   "source": []
  }
 ],
 "metadata": {
  "kernelspec": {
   "display_name": "Python 3 (ipykernel)",
   "language": "python",
   "name": "python3"
  },
  "language_info": {
   "codemirror_mode": {
    "name": "ipython",
    "version": 3
   },
   "file_extension": ".py",
   "mimetype": "text/x-python",
   "name": "python",
   "nbconvert_exporter": "python",
   "pygments_lexer": "ipython3",
   "version": "3.9.7"
  }
 },
 "nbformat": 4,
 "nbformat_minor": 5
}
